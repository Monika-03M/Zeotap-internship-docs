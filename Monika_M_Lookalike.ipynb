{
 "cells": [
  {
   "cell_type": "code",
   "execution_count": 1,
   "id": "8947bd81-8f61-4200-8be1-d06b43bbfb46",
   "metadata": {},
   "outputs": [],
   "source": [
    "import pandas as pd\n",
    "from sklearn.metrics.pairwise import cosine_similarity\n",
    "from sklearn.feature_extraction.text import TfidfVectorizer"
   ]
  },
  {
   "cell_type": "code",
   "execution_count": 2,
   "id": "1c553ba7-7c59-4959-a683-6dbb8cecf0d6",
   "metadata": {},
   "outputs": [],
   "source": [
    "customers = pd.read_csv('data/Customers.csv')\n",
    "products = pd.read_csv('data/Products.csv')\n",
    "transactions = pd.read_csv('data/Transactions.csv')"
   ]
  },
  {
   "cell_type": "code",
   "execution_count": 3,
   "id": "918b0714-a407-469e-8c30-25455bb9fd42",
   "metadata": {},
   "outputs": [],
   "source": [
    "transactions = transactions.merge(customers, on='CustomerID', how='left')\n",
    "transactions = transactions.merge(products, on='ProductID', how='left')\n"
   ]
  },
  {
   "cell_type": "code",
   "execution_count": 4,
   "id": "b3b8b79b-f836-471c-9db5-4af5425f869b",
   "metadata": {},
   "outputs": [],
   "source": [
    "def create_customer_profiles(transactions):\n",
    "    transactions['ProductInfo'] = transactions['ProductName'] + ' ' + transactions['Category']\n",
    "    customer_profiles = transactions.groupby('CustomerID')['ProductInfo'].apply(lambda x: ' '.join(x)).reset_index()\n",
    "    return customer_profiles"
   ]
  },
  {
   "cell_type": "code",
   "execution_count": 5,
   "id": "cc56552e-7333-4e63-a948-fadf66cb234b",
   "metadata": {},
   "outputs": [],
   "source": [
    "customer_profiles = create_customer_profiles(transactions)"
   ]
  },
  {
   "cell_type": "code",
   "execution_count": 6,
   "id": "f7122300-7060-4d5a-98d2-acfca032303f",
   "metadata": {},
   "outputs": [],
   "source": [
    "vectorizer = TfidfVectorizer()\n",
    "customer_vectors = vectorizer.fit_transform(customer_profiles['ProductInfo'])"
   ]
  },
  {
   "cell_type": "code",
   "execution_count": 7,
   "id": "7a0a2a46-b079-4244-acdf-91e4a349bcc7",
   "metadata": {},
   "outputs": [],
   "source": [
    "similarity_matrix = cosine_similarity(customer_vectors)\n"
   ]
  },
  {
   "cell_type": "code",
   "execution_count": 8,
   "id": "e43672c1-f5bb-4472-bd1c-6189cd0e7341",
   "metadata": {},
   "outputs": [],
   "source": [
    "customer_index_map = {customer: idx for idx, customer in enumerate(customer_profiles['CustomerID'])}\n"
   ]
  },
  {
   "cell_type": "code",
   "execution_count": 9,
   "id": "39a6211e-bdf0-41e1-a497-2a1dc59d573b",
   "metadata": {},
   "outputs": [],
   "source": [
    "lookalike_results = {}\n",
    "for customer_id in customers['CustomerID'][:20]:\n",
    "    if customer_id in customer_index_map:\n",
    "        customer_idx = customer_index_map[customer_id]\n",
    "        similarity_scores = list(enumerate(similarity_matrix[customer_idx]))\n",
    "        top_similar_customers = sorted(similarity_scores, key=lambda x: x[1], reverse=True)\n",
    "        top_similar_customers = [entry for entry in top_similar_customers if entry[0] != customer_idx][:3]\n",
    "        lookalike_results[customer_id] = [\n",
    "            {'CustomerID': customer_profiles.iloc[entry[0]]['CustomerID'], 'Score': entry[1]}\n",
    "            for entry in top_similar_customers\n",
    "        ]\n"
   ]
  },
  {
   "cell_type": "code",
   "execution_count": 10,
   "id": "57f3950f-f292-4ad9-9e4f-3baf219d5f4f",
   "metadata": {},
   "outputs": [],
   "source": [
    "lookalike_df = pd.DataFrame([\n",
    "    {'CustomerID': customer_id, 'Lookalikes': lookalikes}\n",
    "    for customer_id, lookalikes in lookalike_results.items()\n",
    "])\n",
    "\n",
    "lookalike_df.to_csv('Lookalike.csv', index=False)\n"
   ]
  },
  {
   "cell_type": "code",
   "execution_count": null,
   "id": "fcdfa01a-080e-4522-bda3-ef4d6a78c40c",
   "metadata": {},
   "outputs": [],
   "source": []
  }
 ],
 "metadata": {
  "kernelspec": {
   "display_name": "Python 3",
   "language": "python",
   "name": "python3"
  },
  "language_info": {
   "codemirror_mode": {
    "name": "ipython",
    "version": 3
   },
   "file_extension": ".py",
   "mimetype": "text/x-python",
   "name": "python",
   "nbconvert_exporter": "python",
   "pygments_lexer": "ipython3",
   "version": "3.11.0"
  }
 },
 "nbformat": 4,
 "nbformat_minor": 5
}
